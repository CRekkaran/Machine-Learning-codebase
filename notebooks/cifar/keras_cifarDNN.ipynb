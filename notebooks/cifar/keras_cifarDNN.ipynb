{
 "cells": [
  {
   "cell_type": "code",
   "execution_count": 1,
   "metadata": {},
   "outputs": [
    {
     "name": "stderr",
     "output_type": "stream",
     "text": [
      "Using TensorFlow backend.\n"
     ]
    }
   ],
   "source": [
    "from __future__ import print_function\n",
    "import keras\n",
    "from keras.datasets import cifar10\n",
    "from keras.preprocessing.image import ImageDataGenerator\n",
    "from keras.models import Sequential\n",
    "from keras.layers import Dense, Dropout, Activation, Flatten\n",
    "from keras.layers import Conv2D, MaxPooling2D\n",
    "import os\n",
    "\n",
    "batch_size = 32\n",
    "num_classes = 10\n",
    "epochs = 100\n",
    "data_augmentation = True\n",
    "num_predictions = 20\n",
    "save_dir = os.path.join(os.getcwd(), 'saved_models')\n",
    "model_name = 'keras_cifar10_trained_model.h5'"
   ]
  },
  {
   "cell_type": "code",
   "execution_count": 21,
   "metadata": {},
   "outputs": [],
   "source": [
    "# The data, split between train and test sets:\n",
    "(x_train, y_train), (x_test, y_test) = cifar10.load_data()"
   ]
  },
  {
   "cell_type": "code",
   "execution_count": 22,
   "metadata": {},
   "outputs": [
    {
     "name": "stdout",
     "output_type": "stream",
     "text": [
      "(10000, 32, 32, 3)\n",
      "(10000, 1)\n",
      "50000 train samples\n",
      "10000 test samples\n"
     ]
    }
   ],
   "source": [
    "print(x_test.shape)\n",
    "print(y_test.shape)\n",
    "print(x_train.shape[0], 'train samples')\n",
    "print(x_test.shape[0], 'test samples')"
   ]
  },
  {
   "cell_type": "code",
   "execution_count": 23,
   "metadata": {},
   "outputs": [],
   "source": [
    "# Convert class vectors to binary class matrices.\n",
    "y_train = keras.utils.to_categorical(y_train, num_classes)\n",
    "y_test = keras.utils.to_categorical(y_test, num_classes)\n"
   ]
  },
  {
   "cell_type": "code",
   "execution_count": 24,
   "metadata": {},
   "outputs": [],
   "source": [
    "model = Sequential()\n",
    "model.add(Conv2D(32, (3, 3), padding='same',\n",
    "                 input_shape=x_train.shape[1:]))\n",
    "model.add(Activation('relu'))\n",
    "model.add(Conv2D(32, (3, 3)))\n",
    "model.add(Activation('relu'))\n",
    "model.add(MaxPooling2D(pool_size=(2, 2)))\n",
    "model.add(Dropout(0.25))\n",
    "\n",
    "model.add(Conv2D(64, (3, 3), padding='same'))\n",
    "model.add(Activation('relu'))\n",
    "model.add(Conv2D(64, (3, 3)))\n",
    "model.add(Activation('relu'))\n",
    "model.add(MaxPooling2D(pool_size=(2, 2)))\n",
    "model.add(Dropout(0.25))\n",
    "\n",
    "model.add(Flatten())\n",
    "model.add(Dense(512))\n",
    "model.add(Activation('relu'))\n",
    "model.add(Dropout(0.5))\n",
    "model.add(Dense(num_classes))\n",
    "model.add(Activation('softmax'))"
   ]
  },
  {
   "cell_type": "code",
   "execution_count": 25,
   "metadata": {},
   "outputs": [],
   "source": [
    "# initiate RMSprop optimizer\n",
    "opt = keras.optimizers.RMSprop(lr=0.0001, decay=1e-6)\n",
    "# Let's train the model using RMSprop\n",
    "model.compile(loss='categorical_crossentropy',\n",
    "              optimizer=opt,\n",
    "              metrics=['accuracy'])"
   ]
  },
  {
   "cell_type": "code",
   "execution_count": 26,
   "metadata": {},
   "outputs": [
    {
     "name": "stdout",
     "output_type": "stream",
     "text": [
      "[[ 59.  62.  63.]\n",
      " [ 43.  46.  45.]\n",
      " [ 50.  48.  43.]\n",
      " [ 68.  54.  42.]\n",
      " [ 98.  73.  52.]\n",
      " [119.  91.  63.]\n",
      " [139. 107.  75.]\n",
      " [145. 110.  80.]\n",
      " [149. 117.  89.]\n",
      " [149. 120.  93.]\n",
      " [131. 103.  77.]\n",
      " [125.  99.  76.]\n",
      " [142. 115.  91.]\n",
      " [144. 112.  86.]\n",
      " [137. 105.  79.]\n",
      " [129.  97.  71.]\n",
      " [137. 106.  79.]\n",
      " [134. 106.  76.]\n",
      " [124.  97.  64.]\n",
      " [139. 113.  78.]\n",
      " [139. 112.  75.]\n",
      " [133. 105.  69.]\n",
      " [136. 105.  74.]\n",
      " [139. 108.  77.]\n",
      " [152. 120.  89.]\n",
      " [163. 131. 100.]\n",
      " [168. 136. 108.]\n",
      " [159. 129. 102.]\n",
      " [158. 130. 104.]\n",
      " [158. 132. 108.]\n",
      " [152. 125. 102.]\n",
      " [148. 124. 103.]]\n",
      "====================================\n",
      "[[0.23137255 0.24313726 0.24705882]\n",
      " [0.16862746 0.18039216 0.1764706 ]\n",
      " [0.19607843 0.1882353  0.16862746]\n",
      " [0.26666668 0.21176471 0.16470589]\n",
      " [0.38431373 0.28627452 0.20392157]\n",
      " [0.46666667 0.35686275 0.24705882]\n",
      " [0.54509807 0.41960785 0.29411766]\n",
      " [0.5686275  0.43137255 0.3137255 ]\n",
      " [0.58431375 0.45882353 0.34901962]\n",
      " [0.58431375 0.47058824 0.3647059 ]\n",
      " [0.5137255  0.40392157 0.3019608 ]\n",
      " [0.49019608 0.3882353  0.29803923]\n",
      " [0.5568628  0.4509804  0.35686275]\n",
      " [0.5647059  0.4392157  0.3372549 ]\n",
      " [0.5372549  0.4117647  0.30980393]\n",
      " [0.5058824  0.38039216 0.2784314 ]\n",
      " [0.5372549  0.41568628 0.30980393]\n",
      " [0.5254902  0.41568628 0.29803923]\n",
      " [0.4862745  0.38039216 0.2509804 ]\n",
      " [0.54509807 0.44313726 0.30588236]\n",
      " [0.54509807 0.4392157  0.29411766]\n",
      " [0.52156866 0.4117647  0.27058825]\n",
      " [0.53333336 0.4117647  0.2901961 ]\n",
      " [0.54509807 0.42352942 0.3019608 ]\n",
      " [0.59607846 0.47058824 0.34901962]\n",
      " [0.6392157  0.5137255  0.39215687]\n",
      " [0.65882355 0.53333336 0.42352942]\n",
      " [0.62352943 0.5058824  0.4       ]\n",
      " [0.61960787 0.50980395 0.40784314]\n",
      " [0.61960787 0.5176471  0.42352942]\n",
      " [0.59607846 0.49019608 0.4       ]\n",
      " [0.5803922  0.4862745  0.40392157]]\n"
     ]
    }
   ],
   "source": [
    "\n",
    "x_train = x_train.astype('float32')\n",
    "print(x_train[0][0])\n",
    "print(\"====================================\")\n",
    "x_test = x_test.astype('float32')\n",
    "x_train /= 255\n",
    "print(x_train[0][0])\n",
    "x_test /= 255"
   ]
  },
  {
   "cell_type": "code",
   "execution_count": 31,
   "metadata": {},
   "outputs": [
    {
     "name": "stdout",
     "output_type": "stream",
     "text": [
      "Using real-time data augmentation.\n"
     ]
    }
   ],
   "source": [
    "if not data_augmentation:\n",
    "    print('Not using data augmentation.')\n",
    "    model.fit(x_train, y_train,\n",
    "              batch_size=batch_size,\n",
    "              epochs=epochs,\n",
    "              validation_data=(x_test, y_test),\n",
    "              shuffle=True)\n",
    "else:\n",
    "    print('Using real-time data augmentation.')\n",
    "    # This will do preprocessing and realtime data augmentation:\n",
    "    datagen = ImageDataGenerator(\n",
    "        featurewise_center=False,  # set input mean to 0 over the dataset\n",
    "        samplewise_center=False,  # set each sample mean to 0\n",
    "        featurewise_std_normalization=False,  # divide inputs by std of the dataset\n",
    "        samplewise_std_normalization=False,  # divide each input by its std\n",
    "        zca_whitening=False,  # apply ZCA whitening\n",
    "        zca_epsilon=1e-06,  # epsilon for ZCA whitening\n",
    "        rotation_range=0,  # randomly rotate images in the range (degrees, 0 to 180)\n",
    "        # randomly shift images horizontally (fraction of total width)\n",
    "        width_shift_range=0.1,\n",
    "        # randomly shift images vertically (fraction of total height)\n",
    "        height_shift_range=0.1,\n",
    "        shear_range=0.,  # set range for random shear\n",
    "        zoom_range=0.,  # set range for random zoom\n",
    "        channel_shift_range=0.,  # set range for random channel shifts\n",
    "        # set mode for filling points outside the input boundaries\n",
    "        fill_mode='nearest',\n",
    "        cval=0.,  # value used for fill_mode = \"constant\"\n",
    "        horizontal_flip=True,  # randomly flip images\n",
    "        vertical_flip=False,  # randomly flip images\n",
    "        # set rescaling factor (applied before any other transformation)\n",
    "        rescale=None,\n",
    "        # set function that will be applied on each input\n",
    "        preprocessing_function=None,\n",
    "        # image data format, either \"channels_first\" or \"channels_last\"\n",
    "        data_format=None,\n",
    "        # fraction of images reserved for validation (strictly between 0 and 1)\n",
    "        validation_split=0.0)\n",
    "\n",
    "    # Compute quantities required for feature-wise normalization\n",
    "    # (std, mean, and principal components if ZCA whitening is applied).\n",
    "    datagen.fit(x_train)\n",
    "\n",
    "    # Fit the model on the batches generated by datagen.flow().\n",
    "#     model.fit_generator(datagen.flow(x_train, y_train,\n",
    "#                                      batch_size=batch_size),\n",
    "#                         epochs=epochs,\n",
    "#                         validation_data=(x_test, y_test))"
   ]
  },
  {
   "cell_type": "code",
   "execution_count": 33,
   "metadata": {},
   "outputs": [
    {
     "name": "stdout",
     "output_type": "stream",
     "text": [
      "Epoch 1/100\n",
      "1000/1000 [==============================] - 230s 230ms/step - loss: 1.9211 - acc: 0.2911 - val_loss: 1.6709 - val_acc: 0.3989\n",
      "Epoch 2/100\n",
      "1000/1000 [==============================] - 215s 215ms/step - loss: 1.6694 - acc: 0.3902 - val_loss: 1.5023 - val_acc: 0.4485\n",
      "Epoch 3/100\n",
      "1000/1000 [==============================] - 201s 201ms/step - loss: 1.5493 - acc: 0.4335 - val_loss: 1.4389 - val_acc: 0.4890\n",
      "Epoch 4/100\n",
      "1000/1000 [==============================] - 205s 205ms/step - loss: 1.4781 - acc: 0.4632 - val_loss: 1.4426 - val_acc: 0.4845\n",
      "Epoch 5/100\n",
      "1000/1000 [==============================] - 202s 202ms/step - loss: 1.4240 - acc: 0.4844 - val_loss: 1.3362 - val_acc: 0.5197\n",
      "Epoch 6/100\n",
      "1000/1000 [==============================] - 189s 189ms/step - loss: 1.3705 - acc: 0.5085 - val_loss: 1.2524 - val_acc: 0.5591\n",
      "Epoch 7/100\n",
      "1000/1000 [==============================] - 195s 195ms/step - loss: 1.3238 - acc: 0.5243 - val_loss: 1.1898 - val_acc: 0.5748\n",
      "Epoch 8/100\n",
      "1000/1000 [==============================] - 193s 193ms/step - loss: 1.2815 - acc: 0.5414 - val_loss: 1.1631 - val_acc: 0.5859\n",
      "Epoch 9/100\n",
      "1000/1000 [==============================] - 199s 199ms/step - loss: 1.2477 - acc: 0.5561 - val_loss: 1.1329 - val_acc: 0.5984\n",
      "Epoch 10/100\n",
      "1000/1000 [==============================] - 201s 201ms/step - loss: 1.2002 - acc: 0.5750 - val_loss: 1.0936 - val_acc: 0.6129\n",
      "Epoch 11/100\n",
      "1000/1000 [==============================] - 199s 199ms/step - loss: 1.1907 - acc: 0.5779 - val_loss: 1.1273 - val_acc: 0.6047\n",
      "Epoch 12/100\n",
      "1000/1000 [==============================] - 222s 222ms/step - loss: 1.1491 - acc: 0.5868 - val_loss: 1.0178 - val_acc: 0.6423\n",
      "Epoch 13/100\n",
      "1000/1000 [==============================] - 233s 233ms/step - loss: 1.1284 - acc: 0.6002 - val_loss: 1.0096 - val_acc: 0.6442\n",
      "Epoch 14/100\n",
      "1000/1000 [==============================] - 199s 199ms/step - loss: 1.1064 - acc: 0.6088 - val_loss: 1.0298 - val_acc: 0.6332\n",
      "Epoch 15/100\n",
      "1000/1000 [==============================] - 197s 197ms/step - loss: 1.0853 - acc: 0.6172 - val_loss: 0.9727 - val_acc: 0.6540\n",
      "Epoch 16/100\n",
      "1000/1000 [==============================] - 197s 197ms/step - loss: 1.0650 - acc: 0.6254 - val_loss: 1.0037 - val_acc: 0.6456\n",
      "Epoch 17/100\n",
      "1000/1000 [==============================] - 200s 200ms/step - loss: 1.0401 - acc: 0.6309 - val_loss: 0.9045 - val_acc: 0.6820\n",
      "Epoch 18/100\n",
      "1000/1000 [==============================] - 199s 199ms/step - loss: 1.0304 - acc: 0.6337 - val_loss: 0.9094 - val_acc: 0.6795\n",
      "Epoch 19/100\n",
      "1000/1000 [==============================] - 198s 198ms/step - loss: 1.0263 - acc: 0.6383 - val_loss: 0.8850 - val_acc: 0.6927\n",
      "Epoch 20/100\n",
      "1000/1000 [==============================] - 198s 198ms/step - loss: 0.9956 - acc: 0.6502 - val_loss: 0.8457 - val_acc: 0.7022\n",
      "Epoch 21/100\n",
      "1000/1000 [==============================] - 217s 217ms/step - loss: 0.9849 - acc: 0.6531 - val_loss: 0.8857 - val_acc: 0.6863\n",
      "Epoch 22/100\n",
      "1000/1000 [==============================] - 219s 219ms/step - loss: 0.9719 - acc: 0.6609 - val_loss: 0.8701 - val_acc: 0.6972\n",
      "Epoch 23/100\n",
      "1000/1000 [==============================] - 218s 218ms/step - loss: 0.9574 - acc: 0.6656 - val_loss: 0.8841 - val_acc: 0.6901\n",
      "Epoch 24/100\n",
      "1000/1000 [==============================] - 219s 219ms/step - loss: 0.9450 - acc: 0.6703 - val_loss: 0.8078 - val_acc: 0.7183\n",
      "Epoch 25/100\n",
      "1000/1000 [==============================] - 227s 227ms/step - loss: 0.9511 - acc: 0.6672 - val_loss: 0.8057 - val_acc: 0.7229\n",
      "Epoch 26/100\n",
      "1000/1000 [==============================] - 350s 350ms/step - loss: 0.9389 - acc: 0.6691 - val_loss: 0.8108 - val_acc: 0.7204\n",
      "Epoch 27/100\n",
      "1000/1000 [==============================] - 217s 217ms/step - loss: 0.9287 - acc: 0.6753 - val_loss: 0.8405 - val_acc: 0.7080\n",
      "Epoch 28/100\n",
      "1000/1000 [==============================] - 215s 215ms/step - loss: 0.9146 - acc: 0.6818 - val_loss: 0.7894 - val_acc: 0.7213\n",
      "Epoch 29/100\n",
      "1000/1000 [==============================] - 215s 215ms/step - loss: 0.9038 - acc: 0.6866 - val_loss: 0.7791 - val_acc: 0.7319\n",
      "Epoch 30/100\n",
      "1000/1000 [==============================] - 217s 217ms/step - loss: 0.9117 - acc: 0.6847 - val_loss: 0.8794 - val_acc: 0.7027\n",
      "Epoch 31/100\n",
      "1000/1000 [==============================] - 217s 217ms/step - loss: 0.8895 - acc: 0.6905 - val_loss: 0.8577 - val_acc: 0.7080\n",
      "Epoch 32/100\n",
      "1000/1000 [==============================] - 217s 217ms/step - loss: 0.9022 - acc: 0.6868 - val_loss: 0.8014 - val_acc: 0.7234\n",
      "Epoch 33/100\n",
      "1000/1000 [==============================] - 217s 217ms/step - loss: 0.8866 - acc: 0.6914 - val_loss: 0.8082 - val_acc: 0.7187\n",
      "Epoch 34/100\n",
      "1000/1000 [==============================] - 219s 219ms/step - loss: 0.8839 - acc: 0.6941 - val_loss: 0.7604 - val_acc: 0.7350\n",
      "Epoch 35/100\n",
      "1000/1000 [==============================] - 199s 199ms/step - loss: 0.8793 - acc: 0.6965 - val_loss: 0.7534 - val_acc: 0.7402\n",
      "Epoch 36/100\n",
      "1000/1000 [==============================] - 142s 142ms/step - loss: 0.8741 - acc: 0.6971 - val_loss: 0.8196 - val_acc: 0.7173\n",
      "Epoch 37/100\n",
      "1000/1000 [==============================] - 142s 142ms/step - loss: 0.8803 - acc: 0.6970 - val_loss: 0.7641 - val_acc: 0.7367\n",
      "Epoch 38/100\n",
      "1000/1000 [==============================] - 143s 143ms/step - loss: 0.8609 - acc: 0.7021 - val_loss: 0.7635 - val_acc: 0.7383\n",
      "Epoch 39/100\n",
      "1000/1000 [==============================] - 144s 144ms/step - loss: 0.8700 - acc: 0.6999 - val_loss: 0.7825 - val_acc: 0.7281\n",
      "Epoch 40/100\n",
      "1000/1000 [==============================] - 142s 142ms/step - loss: 0.8576 - acc: 0.7052 - val_loss: 0.7501 - val_acc: 0.7417\n",
      "Epoch 41/100\n",
      "1000/1000 [==============================] - 142s 142ms/step - loss: 0.8557 - acc: 0.7040 - val_loss: 0.7277 - val_acc: 0.7502\n",
      "Epoch 42/100\n",
      "1000/1000 [==============================] - 144s 144ms/step - loss: 0.8623 - acc: 0.7032 - val_loss: 0.7540 - val_acc: 0.7445\n",
      "Epoch 43/100\n",
      "1000/1000 [==============================] - 142s 142ms/step - loss: 0.8532 - acc: 0.7091 - val_loss: 0.7137 - val_acc: 0.7534\n",
      "Epoch 44/100\n",
      "1000/1000 [==============================] - 142s 142ms/step - loss: 0.8476 - acc: 0.7075 - val_loss: 0.7396 - val_acc: 0.7460\n",
      "Epoch 45/100\n",
      "1000/1000 [==============================] - 142s 142ms/step - loss: 0.8438 - acc: 0.7129 - val_loss: 0.7600 - val_acc: 0.7420\n",
      "Epoch 46/100\n",
      "1000/1000 [==============================] - 143s 143ms/step - loss: 0.8472 - acc: 0.7117 - val_loss: 0.7440 - val_acc: 0.7477\n",
      "Epoch 47/100\n",
      "1000/1000 [==============================] - 152s 152ms/step - loss: 0.8366 - acc: 0.7143 - val_loss: 0.7055 - val_acc: 0.7584\n",
      "Epoch 48/100\n",
      "1000/1000 [==============================] - 150s 150ms/step - loss: 0.8367 - acc: 0.7129 - val_loss: 0.7308 - val_acc: 0.7520\n",
      "Epoch 49/100\n",
      "1000/1000 [==============================] - 151s 151ms/step - loss: 0.8408 - acc: 0.7124 - val_loss: 0.8232 - val_acc: 0.7177\n",
      "Epoch 50/100\n",
      "1000/1000 [==============================] - 152s 152ms/step - loss: 0.8340 - acc: 0.7140 - val_loss: 0.7356 - val_acc: 0.7484\n",
      "Epoch 51/100\n",
      "1000/1000 [==============================] - 152s 152ms/step - loss: 0.8383 - acc: 0.7125 - val_loss: 0.7331 - val_acc: 0.7556\n",
      "Epoch 52/100\n",
      "1000/1000 [==============================] - 152s 152ms/step - loss: 0.8254 - acc: 0.7177 - val_loss: 0.7455 - val_acc: 0.7483\n",
      "Epoch 53/100\n",
      "1000/1000 [==============================] - 147s 147ms/step - loss: 0.8321 - acc: 0.7155 - val_loss: 0.7365 - val_acc: 0.7485\n",
      "Epoch 54/100\n",
      "1000/1000 [==============================] - 148s 148ms/step - loss: 0.8213 - acc: 0.7222 - val_loss: 0.7240 - val_acc: 0.7578\n",
      "Epoch 55/100\n",
      " 128/1000 [==>...........................] - ETA: 2:01 - loss: 0.8472 - acc: 0.7122"
     ]
    },
    {
     "ename": "KeyboardInterrupt",
     "evalue": "",
     "output_type": "error",
     "traceback": [
      "\u001b[1;31m---------------------------------------------------------------------------\u001b[0m",
      "\u001b[1;31mKeyboardInterrupt\u001b[0m                         Traceback (most recent call last)",
      "\u001b[1;32m<ipython-input-33-e42773c47698>\u001b[0m in \u001b[0;36m<module>\u001b[1;34m\u001b[0m\n\u001b[0;32m      3\u001b[0m                         \u001b[0mepochs\u001b[0m\u001b[1;33m=\u001b[0m\u001b[0mepochs\u001b[0m\u001b[1;33m,\u001b[0m\u001b[0msteps_per_epoch\u001b[0m \u001b[1;33m=\u001b[0m \u001b[1;36m1000\u001b[0m\u001b[1;33m,\u001b[0m\u001b[1;33m\u001b[0m\u001b[1;33m\u001b[0m\u001b[0m\n\u001b[0;32m      4\u001b[0m                         \u001b[0mvalidation_data\u001b[0m\u001b[1;33m=\u001b[0m\u001b[1;33m(\u001b[0m\u001b[0mx_test\u001b[0m\u001b[1;33m,\u001b[0m \u001b[0my_test\u001b[0m\u001b[1;33m)\u001b[0m\u001b[1;33m,\u001b[0m\u001b[1;33m\u001b[0m\u001b[1;33m\u001b[0m\u001b[0m\n\u001b[1;32m----> 5\u001b[1;33m                         workers=4)\n\u001b[0m",
      "\u001b[1;32m~\\Anaconda3\\lib\\site-packages\\keras\\legacy\\interfaces.py\u001b[0m in \u001b[0;36mwrapper\u001b[1;34m(*args, **kwargs)\u001b[0m\n\u001b[0;32m     89\u001b[0m                 warnings.warn('Update your `' + object_name + '` call to the ' +\n\u001b[0;32m     90\u001b[0m                               'Keras 2 API: ' + signature, stacklevel=2)\n\u001b[1;32m---> 91\u001b[1;33m             \u001b[1;32mreturn\u001b[0m \u001b[0mfunc\u001b[0m\u001b[1;33m(\u001b[0m\u001b[1;33m*\u001b[0m\u001b[0margs\u001b[0m\u001b[1;33m,\u001b[0m \u001b[1;33m**\u001b[0m\u001b[0mkwargs\u001b[0m\u001b[1;33m)\u001b[0m\u001b[1;33m\u001b[0m\u001b[1;33m\u001b[0m\u001b[0m\n\u001b[0m\u001b[0;32m     92\u001b[0m         \u001b[0mwrapper\u001b[0m\u001b[1;33m.\u001b[0m\u001b[0m_original_function\u001b[0m \u001b[1;33m=\u001b[0m \u001b[0mfunc\u001b[0m\u001b[1;33m\u001b[0m\u001b[1;33m\u001b[0m\u001b[0m\n\u001b[0;32m     93\u001b[0m         \u001b[1;32mreturn\u001b[0m \u001b[0mwrapper\u001b[0m\u001b[1;33m\u001b[0m\u001b[1;33m\u001b[0m\u001b[0m\n",
      "\u001b[1;32m~\\Anaconda3\\lib\\site-packages\\keras\\engine\\training.py\u001b[0m in \u001b[0;36mfit_generator\u001b[1;34m(self, generator, steps_per_epoch, epochs, verbose, callbacks, validation_data, validation_steps, class_weight, max_queue_size, workers, use_multiprocessing, shuffle, initial_epoch)\u001b[0m\n\u001b[0;32m   1416\u001b[0m             \u001b[0muse_multiprocessing\u001b[0m\u001b[1;33m=\u001b[0m\u001b[0muse_multiprocessing\u001b[0m\u001b[1;33m,\u001b[0m\u001b[1;33m\u001b[0m\u001b[1;33m\u001b[0m\u001b[0m\n\u001b[0;32m   1417\u001b[0m             \u001b[0mshuffle\u001b[0m\u001b[1;33m=\u001b[0m\u001b[0mshuffle\u001b[0m\u001b[1;33m,\u001b[0m\u001b[1;33m\u001b[0m\u001b[1;33m\u001b[0m\u001b[0m\n\u001b[1;32m-> 1418\u001b[1;33m             initial_epoch=initial_epoch)\n\u001b[0m\u001b[0;32m   1419\u001b[0m \u001b[1;33m\u001b[0m\u001b[0m\n\u001b[0;32m   1420\u001b[0m     \u001b[1;33m@\u001b[0m\u001b[0minterfaces\u001b[0m\u001b[1;33m.\u001b[0m\u001b[0mlegacy_generator_methods_support\u001b[0m\u001b[1;33m\u001b[0m\u001b[1;33m\u001b[0m\u001b[0m\n",
      "\u001b[1;32m~\\Anaconda3\\lib\\site-packages\\keras\\engine\\training_generator.py\u001b[0m in \u001b[0;36mfit_generator\u001b[1;34m(model, generator, steps_per_epoch, epochs, verbose, callbacks, validation_data, validation_steps, class_weight, max_queue_size, workers, use_multiprocessing, shuffle, initial_epoch)\u001b[0m\n\u001b[0;32m    215\u001b[0m                 outs = model.train_on_batch(x, y,\n\u001b[0;32m    216\u001b[0m                                             \u001b[0msample_weight\u001b[0m\u001b[1;33m=\u001b[0m\u001b[0msample_weight\u001b[0m\u001b[1;33m,\u001b[0m\u001b[1;33m\u001b[0m\u001b[1;33m\u001b[0m\u001b[0m\n\u001b[1;32m--> 217\u001b[1;33m                                             class_weight=class_weight)\n\u001b[0m\u001b[0;32m    218\u001b[0m \u001b[1;33m\u001b[0m\u001b[0m\n\u001b[0;32m    219\u001b[0m                 \u001b[0mouts\u001b[0m \u001b[1;33m=\u001b[0m \u001b[0mto_list\u001b[0m\u001b[1;33m(\u001b[0m\u001b[0mouts\u001b[0m\u001b[1;33m)\u001b[0m\u001b[1;33m\u001b[0m\u001b[1;33m\u001b[0m\u001b[0m\n",
      "\u001b[1;32m~\\Anaconda3\\lib\\site-packages\\keras\\engine\\training.py\u001b[0m in \u001b[0;36mtrain_on_batch\u001b[1;34m(self, x, y, sample_weight, class_weight)\u001b[0m\n\u001b[0;32m   1215\u001b[0m             \u001b[0mins\u001b[0m \u001b[1;33m=\u001b[0m \u001b[0mx\u001b[0m \u001b[1;33m+\u001b[0m \u001b[0my\u001b[0m \u001b[1;33m+\u001b[0m \u001b[0msample_weights\u001b[0m\u001b[1;33m\u001b[0m\u001b[1;33m\u001b[0m\u001b[0m\n\u001b[0;32m   1216\u001b[0m         \u001b[0mself\u001b[0m\u001b[1;33m.\u001b[0m\u001b[0m_make_train_function\u001b[0m\u001b[1;33m(\u001b[0m\u001b[1;33m)\u001b[0m\u001b[1;33m\u001b[0m\u001b[1;33m\u001b[0m\u001b[0m\n\u001b[1;32m-> 1217\u001b[1;33m         \u001b[0moutputs\u001b[0m \u001b[1;33m=\u001b[0m \u001b[0mself\u001b[0m\u001b[1;33m.\u001b[0m\u001b[0mtrain_function\u001b[0m\u001b[1;33m(\u001b[0m\u001b[0mins\u001b[0m\u001b[1;33m)\u001b[0m\u001b[1;33m\u001b[0m\u001b[1;33m\u001b[0m\u001b[0m\n\u001b[0m\u001b[0;32m   1218\u001b[0m         \u001b[1;32mreturn\u001b[0m \u001b[0munpack_singleton\u001b[0m\u001b[1;33m(\u001b[0m\u001b[0moutputs\u001b[0m\u001b[1;33m)\u001b[0m\u001b[1;33m\u001b[0m\u001b[1;33m\u001b[0m\u001b[0m\n\u001b[0;32m   1219\u001b[0m \u001b[1;33m\u001b[0m\u001b[0m\n",
      "\u001b[1;32m~\\Anaconda3\\lib\\site-packages\\keras\\backend\\tensorflow_backend.py\u001b[0m in \u001b[0;36m__call__\u001b[1;34m(self, inputs)\u001b[0m\n\u001b[0;32m   2713\u001b[0m                 \u001b[1;32mreturn\u001b[0m \u001b[0mself\u001b[0m\u001b[1;33m.\u001b[0m\u001b[0m_legacy_call\u001b[0m\u001b[1;33m(\u001b[0m\u001b[0minputs\u001b[0m\u001b[1;33m)\u001b[0m\u001b[1;33m\u001b[0m\u001b[1;33m\u001b[0m\u001b[0m\n\u001b[0;32m   2714\u001b[0m \u001b[1;33m\u001b[0m\u001b[0m\n\u001b[1;32m-> 2715\u001b[1;33m             \u001b[1;32mreturn\u001b[0m \u001b[0mself\u001b[0m\u001b[1;33m.\u001b[0m\u001b[0m_call\u001b[0m\u001b[1;33m(\u001b[0m\u001b[0minputs\u001b[0m\u001b[1;33m)\u001b[0m\u001b[1;33m\u001b[0m\u001b[1;33m\u001b[0m\u001b[0m\n\u001b[0m\u001b[0;32m   2716\u001b[0m         \u001b[1;32melse\u001b[0m\u001b[1;33m:\u001b[0m\u001b[1;33m\u001b[0m\u001b[1;33m\u001b[0m\u001b[0m\n\u001b[0;32m   2717\u001b[0m             \u001b[1;32mif\u001b[0m \u001b[0mpy_any\u001b[0m\u001b[1;33m(\u001b[0m\u001b[0mis_tensor\u001b[0m\u001b[1;33m(\u001b[0m\u001b[0mx\u001b[0m\u001b[1;33m)\u001b[0m \u001b[1;32mfor\u001b[0m \u001b[0mx\u001b[0m \u001b[1;32min\u001b[0m \u001b[0minputs\u001b[0m\u001b[1;33m)\u001b[0m\u001b[1;33m:\u001b[0m\u001b[1;33m\u001b[0m\u001b[1;33m\u001b[0m\u001b[0m\n",
      "\u001b[1;32m~\\Anaconda3\\lib\\site-packages\\keras\\backend\\tensorflow_backend.py\u001b[0m in \u001b[0;36m_call\u001b[1;34m(self, inputs)\u001b[0m\n\u001b[0;32m   2673\u001b[0m             \u001b[0mfetched\u001b[0m \u001b[1;33m=\u001b[0m \u001b[0mself\u001b[0m\u001b[1;33m.\u001b[0m\u001b[0m_callable_fn\u001b[0m\u001b[1;33m(\u001b[0m\u001b[1;33m*\u001b[0m\u001b[0marray_vals\u001b[0m\u001b[1;33m,\u001b[0m \u001b[0mrun_metadata\u001b[0m\u001b[1;33m=\u001b[0m\u001b[0mself\u001b[0m\u001b[1;33m.\u001b[0m\u001b[0mrun_metadata\u001b[0m\u001b[1;33m)\u001b[0m\u001b[1;33m\u001b[0m\u001b[1;33m\u001b[0m\u001b[0m\n\u001b[0;32m   2674\u001b[0m         \u001b[1;32melse\u001b[0m\u001b[1;33m:\u001b[0m\u001b[1;33m\u001b[0m\u001b[1;33m\u001b[0m\u001b[0m\n\u001b[1;32m-> 2675\u001b[1;33m             \u001b[0mfetched\u001b[0m \u001b[1;33m=\u001b[0m \u001b[0mself\u001b[0m\u001b[1;33m.\u001b[0m\u001b[0m_callable_fn\u001b[0m\u001b[1;33m(\u001b[0m\u001b[1;33m*\u001b[0m\u001b[0marray_vals\u001b[0m\u001b[1;33m)\u001b[0m\u001b[1;33m\u001b[0m\u001b[1;33m\u001b[0m\u001b[0m\n\u001b[0m\u001b[0;32m   2676\u001b[0m         \u001b[1;32mreturn\u001b[0m \u001b[0mfetched\u001b[0m\u001b[1;33m[\u001b[0m\u001b[1;33m:\u001b[0m\u001b[0mlen\u001b[0m\u001b[1;33m(\u001b[0m\u001b[0mself\u001b[0m\u001b[1;33m.\u001b[0m\u001b[0moutputs\u001b[0m\u001b[1;33m)\u001b[0m\u001b[1;33m]\u001b[0m\u001b[1;33m\u001b[0m\u001b[1;33m\u001b[0m\u001b[0m\n\u001b[0;32m   2677\u001b[0m \u001b[1;33m\u001b[0m\u001b[0m\n",
      "\u001b[1;32m~\\Anaconda3\\lib\\site-packages\\tensorflow\\python\\client\\session.py\u001b[0m in \u001b[0;36m__call__\u001b[1;34m(self, *args, **kwargs)\u001b[0m\n\u001b[0;32m   1437\u001b[0m           ret = tf_session.TF_SessionRunCallable(\n\u001b[0;32m   1438\u001b[0m               \u001b[0mself\u001b[0m\u001b[1;33m.\u001b[0m\u001b[0m_session\u001b[0m\u001b[1;33m.\u001b[0m\u001b[0m_session\u001b[0m\u001b[1;33m,\u001b[0m \u001b[0mself\u001b[0m\u001b[1;33m.\u001b[0m\u001b[0m_handle\u001b[0m\u001b[1;33m,\u001b[0m \u001b[0margs\u001b[0m\u001b[1;33m,\u001b[0m \u001b[0mstatus\u001b[0m\u001b[1;33m,\u001b[0m\u001b[1;33m\u001b[0m\u001b[1;33m\u001b[0m\u001b[0m\n\u001b[1;32m-> 1439\u001b[1;33m               run_metadata_ptr)\n\u001b[0m\u001b[0;32m   1440\u001b[0m         \u001b[1;32mif\u001b[0m \u001b[0mrun_metadata\u001b[0m\u001b[1;33m:\u001b[0m\u001b[1;33m\u001b[0m\u001b[1;33m\u001b[0m\u001b[0m\n\u001b[0;32m   1441\u001b[0m           \u001b[0mproto_data\u001b[0m \u001b[1;33m=\u001b[0m \u001b[0mtf_session\u001b[0m\u001b[1;33m.\u001b[0m\u001b[0mTF_GetBuffer\u001b[0m\u001b[1;33m(\u001b[0m\u001b[0mrun_metadata_ptr\u001b[0m\u001b[1;33m)\u001b[0m\u001b[1;33m\u001b[0m\u001b[1;33m\u001b[0m\u001b[0m\n",
      "\u001b[1;31mKeyboardInterrupt\u001b[0m: "
     ]
    }
   ],
   "source": [
    "model.fit_generator(datagen.flow(x_train, y_train,\n",
    "                                     batch_size=batch_size),\n",
    "                        epochs=epochs,steps_per_epoch = 1000,\n",
    "                        validation_data=(x_test, y_test),\n",
    "                        workers=4)"
   ]
  },
  {
   "cell_type": "code",
   "execution_count": 34,
   "metadata": {},
   "outputs": [
    {
     "ename": "NameError",
     "evalue": "name 'plt' is not defined",
     "output_type": "error",
     "traceback": [
      "\u001b[1;31m---------------------------------------------------------------------------\u001b[0m",
      "\u001b[1;31mNameError\u001b[0m                                 Traceback (most recent call last)",
      "\u001b[1;32m<ipython-input-34-fe09c9dbef4d>\u001b[0m in \u001b[0;36m<module>\u001b[1;34m\u001b[0m\n\u001b[0;32m      1\u001b[0m \u001b[1;31m# Plot training & validation accuracy values\u001b[0m\u001b[1;33m\u001b[0m\u001b[1;33m\u001b[0m\u001b[1;33m\u001b[0m\u001b[0m\n\u001b[1;32m----> 2\u001b[1;33m \u001b[0mplt\u001b[0m\u001b[1;33m.\u001b[0m\u001b[0mplot\u001b[0m\u001b[1;33m(\u001b[0m\u001b[0mhistory\u001b[0m\u001b[1;33m.\u001b[0m\u001b[0mhistory\u001b[0m\u001b[1;33m[\u001b[0m\u001b[1;34m'accuracy'\u001b[0m\u001b[1;33m]\u001b[0m\u001b[1;33m)\u001b[0m\u001b[1;33m\u001b[0m\u001b[1;33m\u001b[0m\u001b[0m\n\u001b[0m\u001b[0;32m      3\u001b[0m \u001b[0mplt\u001b[0m\u001b[1;33m.\u001b[0m\u001b[0mplot\u001b[0m\u001b[1;33m(\u001b[0m\u001b[0mhistory\u001b[0m\u001b[1;33m.\u001b[0m\u001b[0mhistory\u001b[0m\u001b[1;33m[\u001b[0m\u001b[1;34m'val_accuracy'\u001b[0m\u001b[1;33m]\u001b[0m\u001b[1;33m)\u001b[0m\u001b[1;33m\u001b[0m\u001b[1;33m\u001b[0m\u001b[0m\n\u001b[0;32m      4\u001b[0m \u001b[0mplt\u001b[0m\u001b[1;33m.\u001b[0m\u001b[0mtitle\u001b[0m\u001b[1;33m(\u001b[0m\u001b[1;34m'Model accuracy'\u001b[0m\u001b[1;33m)\u001b[0m\u001b[1;33m\u001b[0m\u001b[1;33m\u001b[0m\u001b[0m\n\u001b[0;32m      5\u001b[0m \u001b[0mplt\u001b[0m\u001b[1;33m.\u001b[0m\u001b[0mylabel\u001b[0m\u001b[1;33m(\u001b[0m\u001b[1;34m'Accuracy'\u001b[0m\u001b[1;33m)\u001b[0m\u001b[1;33m\u001b[0m\u001b[1;33m\u001b[0m\u001b[0m\n",
      "\u001b[1;31mNameError\u001b[0m: name 'plt' is not defined"
     ]
    }
   ],
   "source": [
    "# Plot training & validation accuracy values\n",
    "plt.plot(history.history['accuracy'])\n",
    "plt.plot(history.history['val_accuracy'])\n",
    "plt.title('Model accuracy')\n",
    "plt.ylabel('Accuracy')\n",
    "plt.xlabel('Epoch')\n",
    "plt.legend(['Train', 'Test'], loc='upper left')\n",
    "plt.show()\n",
    "\n",
    "# Plot training & validation loss values\n",
    "plt.plot(history.history['loss'])\n",
    "plt.plot(history.history['val_loss'])\n",
    "plt.title('Model loss')\n",
    "plt.ylabel('Loss')\n",
    "plt.xlabel('Epoch')\n",
    "plt.legend(['Train', 'Test'], loc='upper left')\n",
    "plt.show()"
   ]
  },
  {
   "cell_type": "code",
   "execution_count": 35,
   "metadata": {},
   "outputs": [
    {
     "name": "stdout",
     "output_type": "stream",
     "text": [
      "Saved trained model at C:\\Users\\Karan\\Desktop\\cifar\\saved_models\\keras_cifar10_trained_model.h5 \n",
      "10000/10000 [==============================] - 11s 1ms/step\n",
      "Test loss: 0.7214969015598297\n",
      "Test accuracy: 0.7554\n"
     ]
    }
   ],
   "source": [
    "# Save model and weights\n",
    "if not os.path.isdir(save_dir):\n",
    "    os.makedirs(save_dir)\n",
    "model_path = os.path.join(save_dir, model_name)\n",
    "model.save(model_path)\n",
    "print('Saved trained model at %s ' % model_path)\n",
    "\n",
    "# Score trained model.\n",
    "scores = model.evaluate(x_test, y_test, verbose=1)\n",
    "print('Test loss:', scores[0])\n",
    "print('Test accuracy:', scores[1])"
   ]
  },
  {
   "cell_type": "code",
   "execution_count": 36,
   "metadata": {},
   "outputs": [
    {
     "name": "stdout",
     "output_type": "stream",
     "text": [
      "[0.7214969015598297, 0.7554]\n"
     ]
    }
   ],
   "source": [
    "print(scores)"
   ]
  },
  {
   "cell_type": "code",
   "execution_count": null,
   "metadata": {},
   "outputs": [],
   "source": []
  }
 ],
 "metadata": {
  "kernelspec": {
   "display_name": "Python 3",
   "language": "python",
   "name": "python3"
  }
 },
 "nbformat": 4,
 "nbformat_minor": 2
}
